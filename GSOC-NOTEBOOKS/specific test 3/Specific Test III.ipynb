{
 "cells": [
  {
   "cell_type": "markdown",
   "id": "d37ab067",
   "metadata": {
    "papermill": {
     "duration": 0.004891,
     "end_time": "2023-03-17T06:39:37.754278",
     "exception": false,
     "start_time": "2023-03-17T06:39:37.749387",
     "status": "completed"
    },
    "tags": []
   },
   "source": [
    "# Specific Test III. Learning Mass of Dark Matter Halo "
   ]
  },
  {
   "cell_type": "markdown",
   "id": "b12fe67c",
   "metadata": {
    "papermill": {
     "duration": 0.00351,
     "end_time": "2023-03-17T06:39:37.761591",
     "exception": false,
     "start_time": "2023-03-17T06:39:37.758081",
     "status": "completed"
    },
    "tags": []
   },
   "source": [
    "**Task: Using the provided dataset implement a regression algorithm to learn the mapping between lensing images and the lensing dark matter halo mass. You can use the machine learning algorithm of your choice.  Please implement your approach in PyTorch or Keras and discuss your strategy.**"
   ]
  },
  {
   "cell_type": "markdown",
   "id": "82d49086",
   "metadata": {
    "papermill": {
     "duration": 0.003804,
     "end_time": "2023-03-17T06:39:37.769051",
     "exception": false,
     "start_time": "2023-03-17T06:39:37.765247",
     "status": "completed"
    },
    "tags": []
   },
   "source": [
    " **LET'S IMPORT SOME OF THE LIBRARIES**"
   ]
  },
  {
   "cell_type": "code",
   "execution_count": 1,
   "id": "b309324d",
   "metadata": {
    "execution": {
     "iopub.execute_input": "2023-03-17T06:39:37.778464Z",
     "iopub.status.busy": "2023-03-17T06:39:37.777981Z",
     "iopub.status.idle": "2023-03-17T06:39:55.086761Z",
     "shell.execute_reply": "2023-03-17T06:39:55.085435Z"
    },
    "papermill": {
     "duration": 17.317241,
     "end_time": "2023-03-17T06:39:55.090049",
     "exception": false,
     "start_time": "2023-03-17T06:39:37.772808",
     "status": "completed"
    },
    "tags": []
   },
   "outputs": [
    {
     "name": "stdout",
     "output_type": "stream",
     "text": [
      "Tensorflow version 2.11.0\n"
     ]
    }
   ],
   "source": [
    "import os, re, time, json\n",
    "import PIL.Image, PIL.ImageFont, PIL.ImageDraw\n",
    "import numpy as np\n",
    "try:\n",
    "  # %tensorflow_version only exists in Colab.\n",
    "  %tensorflow_version 2.x\n",
    "except Exception:\n",
    "  pass\n",
    "import tensorflow as tf\n",
    "from tensorflow.keras.applications.resnet50 import ResNet50\n",
    "from matplotlib import pyplot as plt\n",
    "import tensorflow_datasets as tfds\n",
    "from tqdm import tqdm\n",
    "from sklearn.utils import shuffle\n",
    "from tensorflow.keras import layers\n",
    "from tensorflow import keras\n",
    "print(\"Tensorflow version \" + tf.__version__)"
   ]
  },
  {
   "cell_type": "markdown",
   "id": "1180100a",
   "metadata": {
    "papermill": {
     "duration": 0.003868,
     "end_time": "2023-03-17T06:39:55.098525",
     "exception": false,
     "start_time": "2023-03-17T06:39:55.094657",
     "status": "completed"
    },
    "tags": []
   },
   "source": [
    "> **modify() Function to reshape image from (150,150,1) to (150,150,3) and broadcast the image to size of (224,224,3)**"
   ]
  },
  {
   "cell_type": "code",
   "execution_count": 2,
   "id": "a13da66b",
   "metadata": {
    "execution": {
     "iopub.execute_input": "2023-03-17T06:39:55.108670Z",
     "iopub.status.busy": "2023-03-17T06:39:55.108057Z",
     "iopub.status.idle": "2023-03-17T06:39:55.114197Z",
     "shell.execute_reply": "2023-03-17T06:39:55.112908Z"
    },
    "papermill": {
     "duration": 0.014229,
     "end_time": "2023-03-17T06:39:55.116652",
     "exception": false,
     "start_time": "2023-03-17T06:39:55.102423",
     "status": "completed"
    },
    "tags": []
   },
   "outputs": [],
   "source": [
    "def modify(image):\n",
    "    image = image.reshape((150,150,1))\n",
    "    img = tf.reshape(tf.broadcast_to(image, (150, 150, 3)),  (150, 150, 3))\n",
    "    return img"
   ]
  },
  {
   "cell_type": "code",
   "execution_count": 3,
   "id": "a79d719d",
   "metadata": {
    "execution": {
     "iopub.execute_input": "2023-03-17T06:39:55.126251Z",
     "iopub.status.busy": "2023-03-17T06:39:55.125614Z",
     "iopub.status.idle": "2023-03-17T06:39:55.130047Z",
     "shell.execute_reply": "2023-03-17T06:39:55.128957Z"
    },
    "papermill": {
     "duration": 0.011201,
     "end_time": "2023-03-17T06:39:55.132156",
     "exception": false,
     "start_time": "2023-03-17T06:39:55.120955",
     "status": "completed"
    },
    "tags": []
   },
   "outputs": [],
   "source": [
    "path = '/kaggle/input/lense-data/lens_data/'"
   ]
  },
  {
   "cell_type": "markdown",
   "id": "4dd46a33",
   "metadata": {
    "papermill": {
     "duration": 0.003468,
     "end_time": "2023-03-17T06:39:55.139308",
     "exception": false,
     "start_time": "2023-03-17T06:39:55.135840",
     "status": "completed"
    },
    "tags": []
   },
   "source": [
    "> # CUSTOM DATA GENERATOR\n",
    "**Since Dataset was Large enough to handle , We need efficient way to take care of it.**\n",
    "Notations\n",
    "Before getting started, let's go through a few organizational tips that are particularly useful when dealing with large datasets.\n",
    "Let ID be the Python string that identifies a given sample of the dataset. A good way to keep track of samples and their labels is to adopt the following framework:\n",
    "> > 1.) Create a dictionary called partition where you gather:\n",
    "> > > in partition['train'] a list of training IDs\n",
    "\n",
    "> > > in partition['validation'] a list of validation IDs\n",
    "\n",
    "> > 2.) Create a dictionary called labels where for each ID of the dataset, the associated label is given by labels[ID]"
   ]
  },
  {
   "cell_type": "markdown",
   "id": "5ece4421",
   "metadata": {
    "papermill": {
     "duration": 0.003632,
     "end_time": "2023-03-17T06:39:55.146780",
     "exception": false,
     "start_time": "2023-03-17T06:39:55.143148",
     "status": "completed"
    },
    "tags": []
   },
   "source": [
    "> First, let's write the initialization function of the class. We make the latter inherit the properties of keras.utils.Sequence so that we can leverage nice functionalities such as multiprocessing.\n",
    "\n",
    "> We put as arguments relevant information about the data, such as dimension sizes (e.g. a volume of length 32 will have dim=(32,32,32)), number of channels, number of classes, batch size, or decide whether we want to shuffle our data at generation. We also store important information such as labels and the list of IDs that we wish to generate at each pass.\n",
    "\n",
    "> Here, the method on_epoch_end is triggered once at the very beginning as well as at the end of each epoch. If the shuffle parameter is set to True, we will get a new order of exploration at each pass (or just keep a linear exploration scheme otherwise).\n",
    "\n",
    "> Shuffling the order in which examples are fed to the classifier is helpful so that batches between epochs do not look alike. Doing so will eventually make our model more robust.\n",
    "\n",
    "> Another method that is core to the generation process is the one that achieves the most crucial job: producing batches of data. The private method in charge of this task is called __data_generation and takes as argument the list of IDs of the target batch.\n",
    "\n",
    "> During data generation, this code reads the NumPy array of each example from its corresponding file ID.npy. Since our code is multicore-friendly, note that you can do more complex operations instead (e.g. computations from source files) without worrying that data generation becomes a bottleneck in the training process.\n",
    "\n",
    "> Also, please note that we used Keras' keras.utils.to_categorical function to convert our numerical labels stored in y to a binary form (e.g. in a 6-class problem, the third label corresponds to [0 0 1 0 0 0]) suited for classification.\n",
    "\n",
    "> Now comes the part where we build up all these components together. Each call requests a batch index between 0 and the total number of batches, where the latter is specified in the __len__ method.\n",
    "\n",
    "> A common practice is to set this value to\n",
    "                ⌊#samples/batch size⌋\n",
    "so that the model sees the training samples at most once per epoch.\n",
    "Now, when the batch corresponding to a given index is called, the generator executes the __getitem__ method to generate it.\n"
   ]
  },
  {
   "cell_type": "code",
   "execution_count": 4,
   "id": "d5d5ec7c",
   "metadata": {
    "execution": {
     "iopub.execute_input": "2023-03-17T06:39:55.155979Z",
     "iopub.status.busy": "2023-03-17T06:39:55.155333Z",
     "iopub.status.idle": "2023-03-17T06:39:55.167030Z",
     "shell.execute_reply": "2023-03-17T06:39:55.166095Z"
    },
    "papermill": {
     "duration": 0.018659,
     "end_time": "2023-03-17T06:39:55.169247",
     "exception": false,
     "start_time": "2023-03-17T06:39:55.150588",
     "status": "completed"
    },
    "tags": []
   },
   "outputs": [],
   "source": [
    "import numpy as np\n",
    "import keras\n",
    "import os\n",
    "class DataGenerator(keras.utils.Sequence):\n",
    "    'Generates data for Keras'\n",
    "    def __init__(self, list_IDs, batch_size=32, dim=(150,150), n_channels=1,n_classes=10, shuffle=True):\n",
    "        'Initialization'\n",
    "        self.dim = dim\n",
    "        self.batch_size = batch_size\n",
    "        self.list_IDs = list_IDs\n",
    "        self.n_channels = n_channels\n",
    "        self.n_classes = n_classes\n",
    "        self.shuffle = shuffle\n",
    "        self.on_epoch_end()\n",
    "\n",
    "    def __len__(self):\n",
    "        'Denotes the number of batches per epoch'\n",
    "        return int(np.floor(len(self.list_IDs) / self.batch_size))\n",
    "\n",
    "    def __getitem__(self, index):\n",
    "        'Generate one batch of data'\n",
    "        # Generate indexes of the batch\n",
    "        indexes = self.indexes[index*self.batch_size:(index+1)*self.batch_size]\n",
    "\n",
    "        # Find list of IDs\n",
    "        list_IDs_temp = [self.list_IDs[k] for k in indexes]\n",
    "\n",
    "        # Generate data\n",
    "        X, y = self.__data_generation(list_IDs_temp)\n",
    "\n",
    "        return X, y\n",
    "\n",
    "    def on_epoch_end(self):\n",
    "        'Updates indexes after each epoch'\n",
    "        self.indexes = np.arange(len(self.list_IDs))\n",
    "        if self.shuffle == True:\n",
    "            np.random.shuffle(self.indexes)\n",
    "            \n",
    "\n",
    "\n",
    "    def __data_generation(self, list_IDs_temp):\n",
    "        'Generates data containing batch_size samples' # X : (n_samples, *dim, n_channels)\n",
    "        # Initialization\n",
    "        X = np.empty((self.batch_size, *self.dim, self.n_channels))\n",
    "        y = np.empty((self.batch_size), dtype=int)\n",
    "\n",
    "        # Generate data\n",
    "        for i, ID in enumerate(list_IDs_temp):\n",
    "            # Store sample\n",
    "            img = np.load(path+ID,allow_pickle = True)\n",
    "            image = modify(img[0])\n",
    "            X[i,] = image\n",
    "            y[i] = img[1]\n",
    "\n",
    "        return np.array(X), np.array(y)"
   ]
  },
  {
   "cell_type": "code",
   "execution_count": 5,
   "id": "98acec73",
   "metadata": {
    "execution": {
     "iopub.execute_input": "2023-03-17T06:39:55.178972Z",
     "iopub.status.busy": "2023-03-17T06:39:55.178069Z",
     "iopub.status.idle": "2023-03-17T06:39:55.569670Z",
     "shell.execute_reply": "2023-03-17T06:39:55.568625Z"
    },
    "papermill": {
     "duration": 0.399154,
     "end_time": "2023-03-17T06:39:55.572238",
     "exception": false,
     "start_time": "2023-03-17T06:39:55.173084",
     "status": "completed"
    },
    "tags": []
   },
   "outputs": [],
   "source": [
    "import random\n",
    "trains = []\n",
    "l=0\n",
    "trains = [str(i) for i in os.listdir(path)]\n",
    "random.shuffle(trains)\n",
    "train_data = trains[:18000]\n",
    "val_data = trains[18000:20000]"
   ]
  },
  {
   "cell_type": "code",
   "execution_count": 6,
   "id": "ffc3acb4",
   "metadata": {
    "execution": {
     "iopub.execute_input": "2023-03-17T06:39:55.582491Z",
     "iopub.status.busy": "2023-03-17T06:39:55.581458Z",
     "iopub.status.idle": "2023-03-17T06:39:55.586564Z",
     "shell.execute_reply": "2023-03-17T06:39:55.585625Z"
    },
    "papermill": {
     "duration": 0.012212,
     "end_time": "2023-03-17T06:39:55.588698",
     "exception": false,
     "start_time": "2023-03-17T06:39:55.576486",
     "status": "completed"
    },
    "tags": []
   },
   "outputs": [],
   "source": [
    "partition = {'train': train_data , 'validation' : val_data}"
   ]
  },
  {
   "cell_type": "code",
   "execution_count": 7,
   "id": "a726f277",
   "metadata": {
    "execution": {
     "iopub.execute_input": "2023-03-17T06:39:55.597687Z",
     "iopub.status.busy": "2023-03-17T06:39:55.597391Z",
     "iopub.status.idle": "2023-03-17T06:39:55.605558Z",
     "shell.execute_reply": "2023-03-17T06:39:55.604371Z"
    },
    "papermill": {
     "duration": 0.015256,
     "end_time": "2023-03-17T06:39:55.607907",
     "exception": false,
     "start_time": "2023-03-17T06:39:55.592651",
     "status": "completed"
    },
    "tags": []
   },
   "outputs": [],
   "source": [
    "params = {'dim': (150,150),\n",
    "          'batch_size': 64,\n",
    "          'n_classes': 3,\n",
    "          'n_channels': 3,\n",
    "          'shuffle': True}\n",
    "\n",
    "# Generators\n",
    "training_generator = DataGenerator(partition['train'] , **params)\n",
    "validation_generator = DataGenerator(partition['validation'], **params)"
   ]
  },
  {
   "cell_type": "markdown",
   "id": "702674c1",
   "metadata": {
    "papermill": {
     "duration": 0.003886,
     "end_time": "2023-03-17T06:39:55.615818",
     "exception": false,
     "start_time": "2023-03-17T06:39:55.611932",
     "status": "completed"
    },
    "tags": []
   },
   "source": [
    "# MODEL"
   ]
  },
  {
   "cell_type": "code",
   "execution_count": 8,
   "id": "533d2290",
   "metadata": {
    "execution": {
     "iopub.execute_input": "2023-03-17T06:39:55.625873Z",
     "iopub.status.busy": "2023-03-17T06:39:55.624953Z",
     "iopub.status.idle": "2023-03-17T06:40:03.463503Z",
     "shell.execute_reply": "2023-03-17T06:40:03.462648Z"
    },
    "papermill": {
     "duration": 7.863488,
     "end_time": "2023-03-17T06:40:03.483403",
     "exception": false,
     "start_time": "2023-03-17T06:39:55.619915",
     "status": "completed"
    },
    "tags": []
   },
   "outputs": [
    {
     "name": "stdout",
     "output_type": "stream",
     "text": [
      "Downloading data from https://storage.googleapis.com/tensorflow/keras-applications/resnet/resnet50_weights_tf_dim_ordering_tf_kernels_notop.h5\n",
      "94765736/94765736 [==============================] - 1s 0us/step\n",
      "last layer output shape:  (None, 77, 77, 64)\n",
      "Model: \"model\"\n",
      "_________________________________________________________________\n",
      " Layer (type)                Output Shape              Param #   \n",
      "=================================================================\n",
      " input_1 (InputLayer)        [(None, 150, 150, 3)]     0         \n",
      "                                                                 \n",
      " conv1_pad (ZeroPadding2D)   (None, 156, 156, 3)       0         \n",
      "                                                                 \n",
      " conv1_conv (Conv2D)         (None, 75, 75, 64)        9472      \n",
      "                                                                 \n",
      " conv1_bn (BatchNormalizatio  (None, 75, 75, 64)       256       \n",
      " n)                                                              \n",
      "                                                                 \n",
      " conv1_relu (Activation)     (None, 75, 75, 64)        0         \n",
      "                                                                 \n",
      " pool1_pad (ZeroPadding2D)   (None, 77, 77, 64)        0         \n",
      "                                                                 \n",
      " flatten (Flatten)           (None, 379456)            0         \n",
      "                                                                 \n",
      " dense (Dense)               (None, 32)                12142624  \n",
      "                                                                 \n",
      " dropout (Dropout)           (None, 32)                0         \n",
      "                                                                 \n",
      " dense_1 (Dense)             (None, 1)                 33        \n",
      "                                                                 \n",
      "=================================================================\n",
      "Total params: 12,152,385\n",
      "Trainable params: 12,142,657\n",
      "Non-trainable params: 9,728\n",
      "_________________________________________________________________\n"
     ]
    }
   ],
   "source": [
    "from tensorflow.keras.applications.resnet50 import ResNet50\n",
    "from tensorflow.keras import layers\n",
    "\n",
    "# Set the weights file you downloaded into a variable\n",
    "# local_weights_file = '/tmp/inception_v3_weights_tf_dim_ordering_tf_kernels_notop.h5'\n",
    "\n",
    "# Initialize the base model.\n",
    "# Set the input shape and remove the dense layers.\n",
    "pre_trained_model = ResNet50(input_shape = (150, 150, 3), \n",
    "                                include_top = False, \n",
    "                                weights = 'imagenet')\n",
    "\n",
    "# Load the pre-trained weights you downloaded.\n",
    "# pre_trained_model.load_weights(local_weights_file)\n",
    "\n",
    "# Freeze the weights of the layers.\n",
    "for layer in pre_trained_model.layers:\n",
    "    layer.trainable = False\n",
    "    \n",
    "last_layer = pre_trained_model.get_layer('pool1_pad')\n",
    "print('last layer output shape: ', last_layer.output_shape)\n",
    "last_output = last_layer.output\n",
    "\n",
    "from tensorflow.keras.optimizers import SGD\n",
    "from tensorflow.keras import Model\n",
    "\n",
    "# Flatten the output layer to 1 dimension\n",
    "x = layers.Flatten()(last_output)\n",
    "# Add a fully connected layer with 1,024 hidden units and ReLU activation\n",
    "x = layers.Dense(32, activation='relu')(x)\n",
    "# Add a dropout rate of 0.2\n",
    "x = layers.Dropout(0.2)(x)                  \n",
    "# Add a final sigmoid layer for classification\n",
    "x = layers.Dense  (1,activation=None)(x)           \n",
    "\n",
    "# Append the dense network to the base modeltmax\n",
    "model = Model(pre_trained_model.input, x) \n",
    "\n",
    "# Print the model summary. See your dense network connected at the end.\n",
    "model.summary()"
   ]
  },
  {
   "cell_type": "code",
   "execution_count": 9,
   "id": "16f127d3",
   "metadata": {
    "execution": {
     "iopub.execute_input": "2023-03-17T06:40:03.498907Z",
     "iopub.status.busy": "2023-03-17T06:40:03.498610Z",
     "iopub.status.idle": "2023-03-17T06:40:03.519748Z",
     "shell.execute_reply": "2023-03-17T06:40:03.518848Z"
    },
    "papermill": {
     "duration": 0.030608,
     "end_time": "2023-03-17T06:40:03.521766",
     "exception": false,
     "start_time": "2023-03-17T06:40:03.491158",
     "status": "completed"
    },
    "tags": []
   },
   "outputs": [],
   "source": [
    "model.compile(optimizer = SGD(learning_rate=0.0001), \n",
    "              loss = tf.keras.losses.MeanSquaredError(), \n",
    "              metrics = [tf.keras.metrics.RootMeanSquaredError()])"
   ]
  },
  {
   "cell_type": "code",
   "execution_count": 10,
   "id": "04dd62d4",
   "metadata": {
    "execution": {
     "iopub.execute_input": "2023-03-17T06:40:03.536085Z",
     "iopub.status.busy": "2023-03-17T06:40:03.535808Z",
     "iopub.status.idle": "2023-03-17T07:40:54.696685Z",
     "shell.execute_reply": "2023-03-17T07:40:54.695624Z"
    },
    "papermill": {
     "duration": 3651.170773,
     "end_time": "2023-03-17T07:40:54.699207",
     "exception": false,
     "start_time": "2023-03-17T06:40:03.528434",
     "status": "completed"
    },
    "tags": []
   },
   "outputs": [
    {
     "name": "stdout",
     "output_type": "stream",
     "text": [
      "Epoch 1/50\n",
      "281/281 [==============================] - 177s 590ms/step - loss: 519.4097 - root_mean_squared_error: 22.7906 - val_loss: 0.0028 - val_root_mean_squared_error: 0.0527\n",
      "Epoch 2/50\n",
      "281/281 [==============================] - 68s 244ms/step - loss: 0.0026 - root_mean_squared_error: 0.0512 - val_loss: 0.0025 - val_root_mean_squared_error: 0.0498\n",
      "Epoch 3/50\n",
      "281/281 [==============================] - 66s 235ms/step - loss: 0.0023 - root_mean_squared_error: 0.0484 - val_loss: 0.0022 - val_root_mean_squared_error: 0.0471\n",
      "Epoch 4/50\n",
      "281/281 [==============================] - 66s 235ms/step - loss: 0.0021 - root_mean_squared_error: 0.0458 - val_loss: 0.0020 - val_root_mean_squared_error: 0.0445\n",
      "Epoch 5/50\n",
      "281/281 [==============================] - 67s 237ms/step - loss: 0.0019 - root_mean_squared_error: 0.0433 - val_loss: 0.0018 - val_root_mean_squared_error: 0.0421\n",
      "Epoch 6/50\n",
      "281/281 [==============================] - 66s 233ms/step - loss: 0.0017 - root_mean_squared_error: 0.0409 - val_loss: 0.0016 - val_root_mean_squared_error: 0.0398\n",
      "Epoch 7/50\n",
      "281/281 [==============================] - 68s 241ms/step - loss: 0.0015 - root_mean_squared_error: 0.0387 - val_loss: 0.0014 - val_root_mean_squared_error: 0.0376\n",
      "Epoch 8/50\n",
      "281/281 [==============================] - 68s 241ms/step - loss: 0.0013 - root_mean_squared_error: 0.0366 - val_loss: 0.0013 - val_root_mean_squared_error: 0.0356\n",
      "Epoch 9/50\n",
      "281/281 [==============================] - 66s 233ms/step - loss: 0.0012 - root_mean_squared_error: 0.0346 - val_loss: 0.0011 - val_root_mean_squared_error: 0.0336\n",
      "Epoch 10/50\n",
      "281/281 [==============================] - 65s 233ms/step - loss: 0.0011 - root_mean_squared_error: 0.0327 - val_loss: 0.0010 - val_root_mean_squared_error: 0.0318\n",
      "Epoch 11/50\n",
      "281/281 [==============================] - 65s 230ms/step - loss: 9.5486e-04 - root_mean_squared_error: 0.0309 - val_loss: 9.0274e-04 - val_root_mean_squared_error: 0.0300\n",
      "Epoch 12/50\n",
      "281/281 [==============================] - 65s 231ms/step - loss: 8.5337e-04 - root_mean_squared_error: 0.0292 - val_loss: 8.0708e-04 - val_root_mean_squared_error: 0.0284\n",
      "Epoch 13/50\n",
      "281/281 [==============================] - 72s 257ms/step - loss: 7.6265e-04 - root_mean_squared_error: 0.0276 - val_loss: 7.2126e-04 - val_root_mean_squared_error: 0.0269\n",
      "Epoch 14/50\n",
      "281/281 [==============================] - 66s 235ms/step - loss: 6.8162e-04 - root_mean_squared_error: 0.0261 - val_loss: 6.4477e-04 - val_root_mean_squared_error: 0.0254\n",
      "Epoch 15/50\n",
      "281/281 [==============================] - 68s 244ms/step - loss: 6.0916e-04 - root_mean_squared_error: 0.0247 - val_loss: 5.7631e-04 - val_root_mean_squared_error: 0.0240\n",
      "Epoch 16/50\n",
      "281/281 [==============================] - 67s 238ms/step - loss: 5.4438e-04 - root_mean_squared_error: 0.0233 - val_loss: 5.1525e-04 - val_root_mean_squared_error: 0.0227\n",
      "Epoch 17/50\n",
      "281/281 [==============================] - 66s 235ms/step - loss: 4.8653e-04 - root_mean_squared_error: 0.0221 - val_loss: 4.6063e-04 - val_root_mean_squared_error: 0.0215\n",
      "Epoch 18/50\n",
      "281/281 [==============================] - 72s 255ms/step - loss: 4.3482e-04 - root_mean_squared_error: 0.0209 - val_loss: 4.1174e-04 - val_root_mean_squared_error: 0.0203\n",
      "Epoch 19/50\n",
      "281/281 [==============================] - 67s 237ms/step - loss: 3.8861e-04 - root_mean_squared_error: 0.0197 - val_loss: 3.6803e-04 - val_root_mean_squared_error: 0.0192\n",
      "Epoch 20/50\n",
      "281/281 [==============================] - 67s 238ms/step - loss: 3.4728e-04 - root_mean_squared_error: 0.0186 - val_loss: 3.2908e-04 - val_root_mean_squared_error: 0.0181\n",
      "Epoch 21/50\n",
      "281/281 [==============================] - 66s 236ms/step - loss: 3.1037e-04 - root_mean_squared_error: 0.0176 - val_loss: 2.9417e-04 - val_root_mean_squared_error: 0.0172\n",
      "Epoch 22/50\n",
      "281/281 [==============================] - 71s 251ms/step - loss: 2.7739e-04 - root_mean_squared_error: 0.0167 - val_loss: 2.6304e-04 - val_root_mean_squared_error: 0.0162\n",
      "Epoch 23/50\n",
      "281/281 [==============================] - 70s 248ms/step - loss: 2.4790e-04 - root_mean_squared_error: 0.0157 - val_loss: 2.3513e-04 - val_root_mean_squared_error: 0.0153\n",
      "Epoch 24/50\n",
      "281/281 [==============================] - 68s 241ms/step - loss: 2.2154e-04 - root_mean_squared_error: 0.0149 - val_loss: 2.1026e-04 - val_root_mean_squared_error: 0.0145\n",
      "Epoch 25/50\n",
      "281/281 [==============================] - 70s 249ms/step - loss: 1.9799e-04 - root_mean_squared_error: 0.0141 - val_loss: 1.8793e-04 - val_root_mean_squared_error: 0.0137\n",
      "Epoch 26/50\n",
      "281/281 [==============================] - 66s 234ms/step - loss: 1.7694e-04 - root_mean_squared_error: 0.0133 - val_loss: 1.6800e-04 - val_root_mean_squared_error: 0.0130\n",
      "Epoch 27/50\n",
      "281/281 [==============================] - 68s 242ms/step - loss: 1.5813e-04 - root_mean_squared_error: 0.0126 - val_loss: 1.5020e-04 - val_root_mean_squared_error: 0.0123\n",
      "Epoch 28/50\n",
      "281/281 [==============================] - 66s 236ms/step - loss: 1.4132e-04 - root_mean_squared_error: 0.0119 - val_loss: 1.3432e-04 - val_root_mean_squared_error: 0.0116\n",
      "Epoch 29/50\n",
      "281/281 [==============================] - 66s 235ms/step - loss: 1.2629e-04 - root_mean_squared_error: 0.0112 - val_loss: 1.2011e-04 - val_root_mean_squared_error: 0.0110\n",
      "Epoch 30/50\n",
      "281/281 [==============================] - 69s 246ms/step - loss: 1.1287e-04 - root_mean_squared_error: 0.0106 - val_loss: 1.0741e-04 - val_root_mean_squared_error: 0.0104\n",
      "Epoch 31/50\n",
      "281/281 [==============================] - 66s 236ms/step - loss: 1.0087e-04 - root_mean_squared_error: 0.0100 - val_loss: 9.6085e-05 - val_root_mean_squared_error: 0.0098\n",
      "Epoch 32/50\n",
      "281/281 [==============================] - 67s 239ms/step - loss: 9.0144e-05 - root_mean_squared_error: 0.0095 - val_loss: 8.5962e-05 - val_root_mean_squared_error: 0.0093\n",
      "Epoch 33/50\n",
      "281/281 [==============================] - 66s 235ms/step - loss: 8.0563e-05 - root_mean_squared_error: 0.0090 - val_loss: 7.6957e-05 - val_root_mean_squared_error: 0.0088\n",
      "Epoch 34/50\n",
      "281/281 [==============================] - 68s 240ms/step - loss: 7.1996e-05 - root_mean_squared_error: 0.0085 - val_loss: 6.8855e-05 - val_root_mean_squared_error: 0.0083\n",
      "Epoch 35/50\n",
      "281/281 [==============================] - 66s 233ms/step - loss: 6.4344e-05 - root_mean_squared_error: 0.0080 - val_loss: 6.1666e-05 - val_root_mean_squared_error: 0.0079\n",
      "Epoch 36/50\n",
      "281/281 [==============================] - 66s 235ms/step - loss: 5.7502e-05 - root_mean_squared_error: 0.0076 - val_loss: 5.5187e-05 - val_root_mean_squared_error: 0.0074\n",
      "Epoch 37/50\n",
      "281/281 [==============================] - 66s 235ms/step - loss: 5.1389e-05 - root_mean_squared_error: 0.0072 - val_loss: 4.9403e-05 - val_root_mean_squared_error: 0.0070\n",
      "Epoch 38/50\n",
      "281/281 [==============================] - 70s 248ms/step - loss: 4.5926e-05 - root_mean_squared_error: 0.0068 - val_loss: 4.4239e-05 - val_root_mean_squared_error: 0.0067\n",
      "Epoch 39/50\n",
      "281/281 [==============================] - 67s 238ms/step - loss: 4.1045e-05 - root_mean_squared_error: 0.0064 - val_loss: 3.9610e-05 - val_root_mean_squared_error: 0.0063\n",
      "Epoch 40/50\n",
      "281/281 [==============================] - 66s 236ms/step - loss: 3.6681e-05 - root_mean_squared_error: 0.0061 - val_loss: 3.5477e-05 - val_root_mean_squared_error: 0.0060\n",
      "Epoch 41/50\n",
      "281/281 [==============================] - 66s 236ms/step - loss: 3.2782e-05 - root_mean_squared_error: 0.0057 - val_loss: 3.1839e-05 - val_root_mean_squared_error: 0.0056\n",
      "Epoch 42/50\n",
      "281/281 [==============================] - 67s 240ms/step - loss: 2.9296e-05 - root_mean_squared_error: 0.0054 - val_loss: 2.8557e-05 - val_root_mean_squared_error: 0.0053\n",
      "Epoch 43/50\n",
      "281/281 [==============================] - 65s 231ms/step - loss: 2.6182e-05 - root_mean_squared_error: 0.0051 - val_loss: 2.5595e-05 - val_root_mean_squared_error: 0.0051\n",
      "Epoch 44/50\n",
      "281/281 [==============================] - 65s 232ms/step - loss: 2.3398e-05 - root_mean_squared_error: 0.0048 - val_loss: 2.2951e-05 - val_root_mean_squared_error: 0.0048\n",
      "Epoch 45/50\n",
      "281/281 [==============================] - 67s 237ms/step - loss: 2.0911e-05 - root_mean_squared_error: 0.0046 - val_loss: 2.0614e-05 - val_root_mean_squared_error: 0.0045\n",
      "Epoch 46/50\n",
      "281/281 [==============================] - 67s 238ms/step - loss: 1.8688e-05 - root_mean_squared_error: 0.0043 - val_loss: 1.8523e-05 - val_root_mean_squared_error: 0.0043\n",
      "Epoch 47/50\n",
      "281/281 [==============================] - 66s 235ms/step - loss: 1.6701e-05 - root_mean_squared_error: 0.0041 - val_loss: 1.6632e-05 - val_root_mean_squared_error: 0.0041\n",
      "Epoch 48/50\n",
      "281/281 [==============================] - 66s 234ms/step - loss: 1.4926e-05 - root_mean_squared_error: 0.0039 - val_loss: 1.4967e-05 - val_root_mean_squared_error: 0.0039\n",
      "Epoch 49/50\n",
      "281/281 [==============================] - 69s 246ms/step - loss: 1.3339e-05 - root_mean_squared_error: 0.0037 - val_loss: 1.3457e-05 - val_root_mean_squared_error: 0.0037\n",
      "Epoch 50/50\n",
      "281/281 [==============================] - 65s 233ms/step - loss: 1.1921e-05 - root_mean_squared_error: 0.0035 - val_loss: 1.2108e-05 - val_root_mean_squared_error: 0.0035\n"
     ]
    }
   ],
   "source": [
    "history = model.fit(training_generator,epochs = 50, batch_size = 64,validation_data = validation_generator)"
   ]
  },
  {
   "cell_type": "code",
   "execution_count": 11,
   "id": "170b25ba",
   "metadata": {
    "execution": {
     "iopub.execute_input": "2023-03-17T07:40:56.323172Z",
     "iopub.status.busy": "2023-03-17T07:40:56.322428Z",
     "iopub.status.idle": "2023-03-17T07:40:56.547443Z",
     "shell.execute_reply": "2023-03-17T07:40:56.546407Z"
    },
    "papermill": {
     "duration": 1.004645,
     "end_time": "2023-03-17T07:40:56.550301",
     "exception": false,
     "start_time": "2023-03-17T07:40:55.545656",
     "status": "completed"
    },
    "tags": []
   },
   "outputs": [],
   "source": [
    "model.save('model.h5')"
   ]
  },
  {
   "cell_type": "code",
   "execution_count": 12,
   "id": "a409d343",
   "metadata": {
    "execution": {
     "iopub.execute_input": "2023-03-17T07:40:58.154368Z",
     "iopub.status.busy": "2023-03-17T07:40:58.153979Z",
     "iopub.status.idle": "2023-03-17T07:40:58.426108Z",
     "shell.execute_reply": "2023-03-17T07:40:58.425133Z"
    },
    "papermill": {
     "duration": 1.099956,
     "end_time": "2023-03-17T07:40:58.428342",
     "exception": false,
     "start_time": "2023-03-17T07:40:57.328386",
     "status": "completed"
    },
    "tags": []
   },
   "outputs": [
    {
     "data": {
      "text/plain": [
       "[<matplotlib.lines.Line2D at 0x7fd810146610>]"
      ]
     },
     "execution_count": 12,
     "metadata": {},
     "output_type": "execute_result"
    },
    {
     "data": {
      "image/png": "[encoded data removed]",
      "text/plain": [
       "<Figure size 640x480 with 1 Axes>"
      ]
     },
     "metadata": {},
     "output_type": "display_data"
    }
   ],
   "source": [
    "plt.plot(history.history['root_mean_squared_error'])"
   ]
  },
  {
   "cell_type": "code",
   "execution_count": null,
   "id": "021cf707",
   "metadata": {
    "papermill": {
     "duration": 1.10268,
     "end_time": "2023-03-17T07:41:00.366292",
     "exception": false,
     "start_time": "2023-03-17T07:40:59.263612",
     "status": "completed"
    },
    "tags": []
   },
   "outputs": [],
   "source": []
  }
 ],
 "metadata": {
  "kernelspec": {
   "display_name": "Python 3",
   "language": "python",
   "name": "python3"
  },
  "language_info": {
   "codemirror_mode": {
    "name": "ipython",
    "version": 3
   },
   "file_extension": ".py",
   "mimetype": "text/x-python",
   "name": "python",
   "nbconvert_exporter": "python",
   "pygments_lexer": "ipython3",
   "version": "3.7.12"
  },
  "papermill": {
   "default_parameters": {},
   "duration": 3699.667093,
   "end_time": "2023-03-17T07:41:04.536985",
   "environment_variables": {},
   "exception": null,
   "input_path": "__notebook__.ipynb",
   "output_path": "__notebook__.ipynb",
   "parameters": {},
   "start_time": "2023-03-17T06:39:24.869892",
   "version": "2.4.0"
  }
 },
 "nbformat": 4,
 "nbformat_minor": 5
}
