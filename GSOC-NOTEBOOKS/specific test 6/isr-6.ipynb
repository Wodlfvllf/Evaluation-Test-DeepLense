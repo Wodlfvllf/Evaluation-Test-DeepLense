{
 "cells": [
  {
   "cell_type": "code",
   "execution_count": 1,
   "id": "07fdae9d",
   "metadata": {
    "_cell_guid": "b1076dfc-b9ad-4769-8c92-a6c4dae69d19",
    "_uuid": "8f2839f25d086af736a60e9eeb907d3b93b6e0e5",
    "execution": {
     "iopub.execute_input": "2023-03-17T06:55:30.838737Z",
     "iopub.status.busy": "2023-03-17T06:55:30.838346Z",
     "iopub.status.idle": "2023-03-17T06:55:30.844236Z",
     "shell.execute_reply": "2023-03-17T06:55:30.843275Z"
    },
    "papermill": {
     "duration": 0.015902,
     "end_time": "2023-03-17T06:55:30.847533",
     "exception": false,
     "start_time": "2023-03-17T06:55:30.831631",
     "status": "completed"
    },
    "tags": []
   },
   "outputs": [],
   "source": [
    "# # This Python 3 environment comes with many helpful analytics libraries installed\n",
    "# # It is defined by the kaggle/python Docker image: https://github.com/kaggle/docker-python\n",
    "# # For example, here's several helpful packages to load\n",
    "\n",
    "# import numpy as np # linear algebra\n",
    "# import pandas as pd # data processing, CSV file I/O (e.g. pd.read_csv)\n",
    "\n",
    "# # Input data files are available in the read-only \"../input/\" directory\n",
    "# # For example, running this (by clicking run or pressing Shift+Enter) will list all files under the input directory\n",
    "\n",
    "# import os\n",
    "# for dirname, _, filenames in os.walk('/kaggle/input'):\n",
    "#     for filename in filenames:\n",
    "#         print(os.path.join(dirname, filename))\n",
    "\n",
    "# # You can write up to 20GB to the current directory (/kaggle/working/) that gets preserved as output when you create a version using \"Save & Run All\" \n",
    "# # You can also write temporary files to /kaggle/temp/, but they won't be saved outside of the current session"
   ]
  },
  {
   "cell_type": "code",
   "execution_count": 2,
   "id": "dcf9ef3f",
   "metadata": {
    "execution": {
     "iopub.execute_input": "2023-03-17T06:55:30.857259Z",
     "iopub.status.busy": "2023-03-17T06:55:30.856940Z",
     "iopub.status.idle": "2023-03-17T06:55:39.914277Z",
     "shell.execute_reply": "2023-03-17T06:55:39.911267Z"
    },
    "papermill": {
     "duration": 9.065026,
     "end_time": "2023-03-17T06:55:39.916822",
     "exception": false,
     "start_time": "2023-03-17T06:55:30.851796",
     "status": "completed"
    },
    "tags": []
   },
   "outputs": [
    {
     "name": "stdout",
     "output_type": "stream",
     "text": [
      "Tensorflow version 2.11.0\n"
     ]
    }
   ],
   "source": [
    "import os, re, time, json\n",
    "import PIL.Image, PIL.ImageFont, PIL.ImageDraw\n",
    "import numpy as np\n",
    "from keras import backend as K\n",
    "try:\n",
    "  # %tensorflow_version only exists in Colab.\n",
    "  %tensorflow_version 2.x\n",
    "except Exception:\n",
    "  pass\n",
    "import tensorflow as tf\n",
    "from tensorflow.keras.applications.resnet50 import ResNet50\n",
    "from matplotlib import pyplot as plt\n",
    "import tensorflow_datasets as tfds\n",
    "from tqdm import tqdm\n",
    "from sklearn.utils import shuffle\n",
    "from tensorflow.keras import layers\n",
    "from tensorflow import keras\n",
    "print(\"Tensorflow version \" + tf.__version__)"
   ]
  },
  {
   "cell_type": "code",
   "execution_count": 3,
   "id": "f186a65a",
   "metadata": {
    "execution": {
     "iopub.execute_input": "2023-03-17T06:55:39.928522Z",
     "iopub.status.busy": "2023-03-17T06:55:39.927864Z",
     "iopub.status.idle": "2023-03-17T06:55:39.946196Z",
     "shell.execute_reply": "2023-03-17T06:55:39.945114Z"
    },
    "papermill": {
     "duration": 0.026878,
     "end_time": "2023-03-17T06:55:39.948698",
     "exception": false,
     "start_time": "2023-03-17T06:55:39.921820",
     "status": "completed"
    },
    "tags": []
   },
   "outputs": [
    {
     "data": {
      "text/plain": [
       "(1, 75, 75)"
      ]
     },
     "execution_count": 3,
     "metadata": {},
     "output_type": "execute_result"
    }
   ],
   "source": [
    "pth = '/kaggle/input/image-resolution/Dataset/LR/sample1.npy'\n",
    "img =np.load(pth)\n",
    "img.shape"
   ]
  },
  {
   "cell_type": "code",
   "execution_count": 4,
   "id": "703409e2",
   "metadata": {
    "execution": {
     "iopub.execute_input": "2023-03-17T06:55:39.958725Z",
     "iopub.status.busy": "2023-03-17T06:55:39.958410Z",
     "iopub.status.idle": "2023-03-17T06:55:39.964004Z",
     "shell.execute_reply": "2023-03-17T06:55:39.963114Z"
    },
    "papermill": {
     "duration": 0.013245,
     "end_time": "2023-03-17T06:55:39.966270",
     "exception": false,
     "start_time": "2023-03-17T06:55:39.953025",
     "status": "completed"
    },
    "tags": []
   },
   "outputs": [],
   "source": [
    "path = '/kaggle/input/image-resolution/Dataset/'"
   ]
  },
  {
   "cell_type": "markdown",
   "id": "a49a5f43",
   "metadata": {
    "papermill": {
     "duration": 0.004107,
     "end_time": "2023-03-17T06:55:39.974841",
     "exception": false,
     "start_time": "2023-03-17T06:55:39.970734",
     "status": "completed"
    },
    "tags": []
   },
   "source": [
    "# Resizing Images"
   ]
  },
  {
   "cell_type": "code",
   "execution_count": 5,
   "id": "68c4e30f",
   "metadata": {
    "execution": {
     "iopub.execute_input": "2023-03-17T06:55:39.984949Z",
     "iopub.status.busy": "2023-03-17T06:55:39.984686Z",
     "iopub.status.idle": "2023-03-17T06:55:39.991914Z",
     "shell.execute_reply": "2023-03-17T06:55:39.990473Z"
    },
    "papermill": {
     "duration": 0.014886,
     "end_time": "2023-03-17T06:55:39.994356",
     "exception": false,
     "start_time": "2023-03-17T06:55:39.979470",
     "status": "completed"
    },
    "tags": []
   },
   "outputs": [],
   "source": [
    "def modify_HR(image):\n",
    "    image = image.reshape((150,150,1))\n",
    "    img = tf.reshape(tf.broadcast_to(image, (150, 150, 3)),  (150, 150, 3))\n",
    "    return img\n",
    "\n",
    "def modify_LR(image):\n",
    "    image = image.reshape((75,75,1))\n",
    "    img = tf.reshape(tf.broadcast_to(image, (75, 75, 3)),  (75, 75, 3))\n",
    "    return img"
   ]
  },
  {
   "cell_type": "markdown",
   "id": "43175d94",
   "metadata": {
    "papermill": {
     "duration": 0.004383,
     "end_time": "2023-03-17T06:55:40.003266",
     "exception": false,
     "start_time": "2023-03-17T06:55:39.998883",
     "status": "completed"
    },
    "tags": []
   },
   "source": [
    "> # CUSTOM DATA GENERATOR\n",
    "**Since Dataset was Large enough to handle , We need efficient way to take care of it.**\n",
    "Notations\n",
    "Before getting started, let's go through a few organizational tips that are particularly useful when dealing with large datasets.\n",
    "Let ID be the Python string that identifies a given sample of the dataset. A good way to keep track of samples and their labels is to adopt the following framework:\n",
    "> > 1.) Create a dictionary called partition where you gather:\n",
    "> > > in partition['train'] a list of training IDs\n",
    "\n",
    "> > > in partition['validation'] a list of validation IDs\n",
    "\n",
    "> > 2.) Create a dictionary called labels where for each ID of the dataset, the associated label is given by labels[ID]"
   ]
  },
  {
   "cell_type": "markdown",
   "id": "60112548",
   "metadata": {
    "papermill": {
     "duration": 0.004391,
     "end_time": "2023-03-17T06:55:40.012134",
     "exception": false,
     "start_time": "2023-03-17T06:55:40.007743",
     "status": "completed"
    },
    "tags": []
   },
   "source": [
    "> First, let's write the initialization function of the class. We make the latter inherit the properties of keras.utils.Sequence so that we can leverage nice functionalities such as multiprocessing.\n",
    "\n",
    "> We put as arguments relevant information about the data, such as dimension sizes (e.g. a volume of length 32 will have dim=(32,32,32)), number of channels, number of classes, batch size, or decide whether we want to shuffle our data at generation. We also store important information such as labels and the list of IDs that we wish to generate at each pass.\n",
    "\n",
    "> Here, the method on_epoch_end is triggered once at the very beginning as well as at the end of each epoch. If the shuffle parameter is set to True, we will get a new order of exploration at each pass (or just keep a linear exploration scheme otherwise).\n",
    "\n",
    "> Shuffling the order in which examples are fed to the classifier is helpful so that batches between epochs do not look alike. Doing so will eventually make our model more robust.\n",
    "\n",
    "> Another method that is core to the generation process is the one that achieves the most crucial job: producing batches of data. The private method in charge of this task is called __data_generation and takes as argument the list of IDs of the target batch.\n",
    "\n",
    "> During data generation, this code reads the NumPy array of each example from its corresponding file ID.npy. Since our code is multicore-friendly, note that you can do more complex operations instead (e.g. computations from source files) without worrying that data generation becomes a bottleneck in the training process.\n",
    "\n",
    "> Also, please note that we used Keras' keras.utils.to_categorical function to convert our numerical labels stored in y to a binary form (e.g. in a 6-class problem, the third label corresponds to [0 0 1 0 0 0]) suited for classification.\n",
    "\n",
    "> Now comes the part where we build up all these components together. Each call requests a batch index between 0 and the total number of batches, where the latter is specified in the __len__ method.\n",
    "\n",
    "> A common practice is to set this value to\n",
    "                ⌊#samples/batch size⌋\n",
    "so that the model sees the training samples at most once per epoch.\n",
    "Now, when the batch corresponding to a given index is called, the generator executes the __getitem__ method to generate it.\n"
   ]
  },
  {
   "cell_type": "code",
   "execution_count": 6,
   "id": "961eaa82",
   "metadata": {
    "execution": {
     "iopub.execute_input": "2023-03-17T06:55:40.022831Z",
     "iopub.status.busy": "2023-03-17T06:55:40.022020Z",
     "iopub.status.idle": "2023-03-17T06:55:40.034575Z",
     "shell.execute_reply": "2023-03-17T06:55:40.033690Z"
    },
    "papermill": {
     "duration": 0.020231,
     "end_time": "2023-03-17T06:55:40.036680",
     "exception": false,
     "start_time": "2023-03-17T06:55:40.016449",
     "status": "completed"
    },
    "tags": []
   },
   "outputs": [],
   "source": [
    "import numpy as np\n",
    "import keras\n",
    "import os\n",
    "class DataGenerator(keras.utils.Sequence):\n",
    "    'Generates data for Keras'\n",
    "    def __init__(self, list_IDs, batch_size=32, dim_LR=(75,75),dim_HR = (150,150), n_channels=1,n_classes=10, shuffle=True):\n",
    "        'Initialization'\n",
    "        self.dim_LR = dim_LR\n",
    "        self.dim_HR = dim_HR\n",
    "        self.batch_size = batch_size\n",
    "#         self.labels = labels\n",
    "        self.list_IDs = list_IDs\n",
    "        self.n_channels = n_channels\n",
    "        self.n_classes = n_classes\n",
    "        self.shuffle = shuffle\n",
    "        self.on_epoch_end()\n",
    "\n",
    "    def __len__(self):\n",
    "        'Denotes the number of batches per epoch'\n",
    "        return int(np.floor(len(self.list_IDs) / self.batch_size))\n",
    "\n",
    "    def __getitem__(self, index):\n",
    "        'Generate one batch of data'\n",
    "        # Generate indexes of the batch\n",
    "        indexes = self.indexes[index*self.batch_size:(index+1)*self.batch_size]\n",
    "\n",
    "        # Find list of IDs\n",
    "        list_IDs_temp = [self.list_IDs[k] for k in indexes]\n",
    "\n",
    "        # Generate data\n",
    "        X, y = self.__data_generation(list_IDs_temp)\n",
    "\n",
    "        return X, y\n",
    "\n",
    "    def on_epoch_end(self):\n",
    "        'Updates indexes after each epoch'\n",
    "        self.indexes = np.arange(len(self.list_IDs))\n",
    "        if self.shuffle == True:\n",
    "            np.random.shuffle(self.indexes)\n",
    "            \n",
    "\n",
    "\n",
    "    def __data_generation(self, list_IDs_temp):\n",
    "        'Generates data containing batch_size samples' # X : (n_samples, *dim, n_channels)\n",
    "        # Initialization\n",
    "        X = np.empty((self.batch_size, *self.dim_LR, self.n_channels))\n",
    "        y = np.empty((self.batch_size, *self.dim_HR, self.n_channels))\n",
    "\n",
    "        # Generate data\n",
    "        for i, ID in enumerate(list_IDs_temp):\n",
    "            # Store sample\n",
    "            k = ID.split('_')\n",
    "            img = np.load('/kaggle/input/image-resolution/Dataset/' + '/'.join(k))\n",
    "            img = modify_LR(img)\n",
    "            X[i,] = img\n",
    "            y[i,] = modify_HR(np.load('/kaggle/input/image-resolution/Dataset/' +'HR/'+k[1]))\n",
    "\n",
    "        return np.array(X), np.array(y)"
   ]
  },
  {
   "cell_type": "markdown",
   "id": "7531434d",
   "metadata": {
    "papermill": {
     "duration": 0.004288,
     "end_time": "2023-03-17T06:55:40.045876",
     "exception": false,
     "start_time": "2023-03-17T06:55:40.041588",
     "status": "completed"
    },
    "tags": []
   },
   "source": [
    "# Dictionary"
   ]
  },
  {
   "cell_type": "code",
   "execution_count": 7,
   "id": "cc857765",
   "metadata": {
    "execution": {
     "iopub.execute_input": "2023-03-17T06:55:40.055943Z",
     "iopub.status.busy": "2023-03-17T06:55:40.055670Z",
     "iopub.status.idle": "2023-03-17T06:55:40.235021Z",
     "shell.execute_reply": "2023-03-17T06:55:40.234113Z"
    },
    "papermill": {
     "duration": 0.186955,
     "end_time": "2023-03-17T06:55:40.237528",
     "exception": false,
     "start_time": "2023-03-17T06:55:40.050573",
     "status": "completed"
    },
    "tags": []
   },
   "outputs": [],
   "source": [
    "import random\n",
    "from tqdm import tqdm\n",
    "from sklearn.utils import shuffle\n",
    "trains = []\n",
    "train_labels = []\n",
    "labels = {}\n",
    "trains = ['LR_'+str(i) for i in os.listdir(path+'LR')]\n",
    "shuffle(trains)\n",
    "train = trains[:9000]\n",
    "val = trains[9000:10000]"
   ]
  },
  {
   "cell_type": "code",
   "execution_count": 8,
   "id": "43265d0c",
   "metadata": {
    "execution": {
     "iopub.execute_input": "2023-03-17T06:55:40.248233Z",
     "iopub.status.busy": "2023-03-17T06:55:40.247887Z",
     "iopub.status.idle": "2023-03-17T06:55:40.253650Z",
     "shell.execute_reply": "2023-03-17T06:55:40.252557Z"
    },
    "papermill": {
     "duration": 0.013448,
     "end_time": "2023-03-17T06:55:40.255904",
     "exception": false,
     "start_time": "2023-03-17T06:55:40.242456",
     "status": "completed"
    },
    "tags": []
   },
   "outputs": [],
   "source": [
    "partition = {'train': train , 'validation' : val}\n",
    "params = {'dim_LR': (75,75),\n",
    "          'dim_HR': (150,150),\n",
    "          'batch_size': 2,\n",
    "          'n_classes': 2,\n",
    "          'n_channels': 3,\n",
    "          'shuffle': True}\n",
    "\n",
    "\n",
    "# Generators\n",
    "training_generator = DataGenerator(partition['train'],  **params)\n",
    "validation_generator = DataGenerator(partition['validation'], **params)"
   ]
  },
  {
   "cell_type": "markdown",
   "id": "f3bad2f5",
   "metadata": {
    "papermill": {
     "duration": 0.004314,
     "end_time": "2023-03-17T06:55:40.264900",
     "exception": false,
     "start_time": "2023-03-17T06:55:40.260586",
     "status": "completed"
    },
    "tags": []
   },
   "source": [
    "# Peak Signal To Noise Ratio and Structural Similarity Index"
   ]
  },
  {
   "cell_type": "code",
   "execution_count": 9,
   "id": "0812f7a5",
   "metadata": {
    "execution": {
     "iopub.execute_input": "2023-03-17T06:55:40.275659Z",
     "iopub.status.busy": "2023-03-17T06:55:40.275397Z",
     "iopub.status.idle": "2023-03-17T06:55:40.285951Z",
     "shell.execute_reply": "2023-03-17T06:55:40.284951Z"
    },
    "papermill": {
     "duration": 0.01855,
     "end_time": "2023-03-17T06:55:40.288114",
     "exception": false,
     "start_time": "2023-03-17T06:55:40.269564",
     "status": "completed"
    },
    "tags": []
   },
   "outputs": [],
   "source": [
    "def PSNR(y_true, y_pred):\n",
    "    max_pixel = 1.0\n",
    "    return (10.0 * K.log((max_pixel ** 2) / (K.mean(K.square(y_pred - y_true), axis=-1)))) / 2.303\n",
    "\n",
    "def SSIM(y_true, y_pred):\n",
    "    return tf.reduce_mean(tf.image.ssim(y_true, y_pred, 2.0))\n",
    "\n",
    "\n",
    "def model_train_plot(history):\n",
    "    \n",
    "    \n",
    "    plt.plot(history.history['root_mean_squared_error'])\n",
    "    plt.plot(history.history['val_root_mean_squared_error'])\n",
    "    plt.title('Root Mean Squared Error')\n",
    "    plt.ylabel('error')\n",
    "    plt.xlabel('epoch')\n",
    "    plt.legend(['train', 'test'], loc='upper left')\n",
    "    plt.show()\n",
    "\n",
    "    \n",
    "\n",
    "    plt.plot(history.history['SSIM'])\n",
    "    plt.plot(history.history['val_SSIM'])\n",
    "    plt.title('model SSIM')\n",
    "    plt.ylabel('SSIM')\n",
    "    plt.xlabel('epoch')\n",
    "    plt.legend(['train', 'test'], loc='upper left')\n",
    "    plt.show()\n",
    "    \n",
    "    plt.plot(history.history['PSNR'])\n",
    "    plt.plot(history.history['val_PSNR'])\n",
    "    plt.title('model PSNR')\n",
    "    plt.ylabel('PSNR')\n",
    "    plt.xlabel('epoch')\n",
    "    plt.legend(['train', 'test'], loc='upper left')\n",
    "    plt.show()\n",
    "\n",
    "    # summarize history for loss\n",
    "    plt.plot(history.history['loss'])\n",
    "    plt.plot(history.history['val_loss'])\n",
    "    plt.title('model loss')\n",
    "    plt.ylabel('loss')\n",
    "    plt.xlabel('epoch')\n",
    "    plt.legend(['train', 'test'], loc='upper left')\n",
    "    plt.show()\n",
    "\n",
    "    \n",
    "\n"
   ]
  },
  {
   "cell_type": "markdown",
   "id": "6b30976e",
   "metadata": {
    "papermill": {
     "duration": 0.004501,
     "end_time": "2023-03-17T06:55:40.299444",
     "exception": false,
     "start_time": "2023-03-17T06:55:40.294943",
     "status": "completed"
    },
    "tags": []
   },
   "source": [
    "# Model"
   ]
  },
  {
   "cell_type": "code",
   "execution_count": 10,
   "id": "7632ee6c",
   "metadata": {
    "execution": {
     "iopub.execute_input": "2023-03-17T06:55:40.310480Z",
     "iopub.status.busy": "2023-03-17T06:55:40.309687Z",
     "iopub.status.idle": "2023-03-17T06:55:40.319866Z",
     "shell.execute_reply": "2023-03-17T06:55:40.318952Z"
    },
    "papermill": {
     "duration": 0.018085,
     "end_time": "2023-03-17T06:55:40.321995",
     "exception": false,
     "start_time": "2023-03-17T06:55:40.303910",
     "status": "completed"
    },
    "tags": []
   },
   "outputs": [],
   "source": [
    "def build_model():\n",
    "    model = keras.Sequential()\n",
    "    model.add(keras.Input(shape = (75,75,3)))\n",
    "    model.add(layers.Conv2D(filters = 32, kernel_size= 3, padding = 'same', strides = 1,activation='relu'))\n",
    "    model.add(layers.Conv2D(filters = 64, kernel_size= 3, padding = 'same', activation='relu'))\n",
    "    model.add(layers.Conv2D(filters = 128, kernel_size= 9, padding = 'same', activation='relu' ))\n",
    "    model.add(layers.Conv2D(filters = 64, kernel_size= 9, padding = 'same', activation='relu'))\n",
    "    model.add(layers.UpSampling2D(size = (2,2)))\n",
    "    model.add(layers.Conv2D(filters = 64, kernel_size= 3, padding = 'same', activation='relu'))\n",
    "    model.add(layers.Conv2D(filters = 128, kernel_size= 9, padding = 'same', activation='relu'))\n",
    "    model.add(layers.Conv2D(filters = 32, kernel_size= 3, padding = 'same', activation='relu'))\n",
    "    model.add(layers.Conv2D(filters = 32, kernel_size= 3, padding = 'same', activation='relu'))\n",
    "#     model.add(layers.UpSampling2D(size = (2,2)))\n",
    "    model.add(layers.Dense(3, activation=\"relu\"))\n",
    "    opt = keras.optimizers.Adam(learning_rate=0.0001)\n",
    "    \n",
    "    model.compile(optimizer = opt, loss = tf.keras.losses.MeanSquaredError(), metrics = [PSNR,tf.keras.metrics.RootMeanSquaredError(), SSIM])\n",
    "    model.summary()\n",
    "    return model"
   ]
  },
  {
   "cell_type": "code",
   "execution_count": 11,
   "id": "780f6499",
   "metadata": {
    "execution": {
     "iopub.execute_input": "2023-03-17T06:55:40.333441Z",
     "iopub.status.busy": "2023-03-17T06:55:40.332758Z",
     "iopub.status.idle": "2023-03-17T06:55:43.314262Z",
     "shell.execute_reply": "2023-03-17T06:55:43.313327Z"
    },
    "papermill": {
     "duration": 3.010965,
     "end_time": "2023-03-17T06:55:43.337726",
     "exception": false,
     "start_time": "2023-03-17T06:55:40.326761",
     "status": "completed"
    },
    "tags": []
   },
   "outputs": [
    {
     "name": "stdout",
     "output_type": "stream",
     "text": [
      "Model: \"sequential\"\n",
      "_________________________________________________________________\n",
      " Layer (type)                Output Shape              Param #   \n",
      "=================================================================\n",
      " conv2d (Conv2D)             (None, 75, 75, 32)        896       \n",
      "                                                                 \n",
      " conv2d_1 (Conv2D)           (None, 75, 75, 64)        18496     \n",
      "                                                                 \n",
      " conv2d_2 (Conv2D)           (None, 75, 75, 128)       663680    \n",
      "                                                                 \n",
      " conv2d_3 (Conv2D)           (None, 75, 75, 64)        663616    \n",
      "                                                                 \n",
      " up_sampling2d (UpSampling2D  (None, 150, 150, 64)     0         \n",
      " )                                                               \n",
      "                                                                 \n",
      " conv2d_4 (Conv2D)           (None, 150, 150, 64)      36928     \n",
      "                                                                 \n",
      " conv2d_5 (Conv2D)           (None, 150, 150, 128)     663680    \n",
      "                                                                 \n",
      " conv2d_6 (Conv2D)           (None, 150, 150, 32)      36896     \n",
      "                                                                 \n",
      " conv2d_7 (Conv2D)           (None, 150, 150, 32)      9248      \n",
      "                                                                 \n",
      " dense (Dense)               (None, 150, 150, 3)       99        \n",
      "                                                                 \n",
      "=================================================================\n",
      "Total params: 2,093,539\n",
      "Trainable params: 2,093,539\n",
      "Non-trainable params: 0\n",
      "_________________________________________________________________\n"
     ]
    }
   ],
   "source": [
    "model = build_model()"
   ]
  },
  {
   "cell_type": "code",
   "execution_count": 12,
   "id": "17ea5281",
   "metadata": {
    "execution": {
     "iopub.execute_input": "2023-03-17T06:55:43.352013Z",
     "iopub.status.busy": "2023-03-17T06:55:43.351711Z",
     "iopub.status.idle": "2023-03-17T10:50:25.114810Z",
     "shell.execute_reply": "2023-03-17T10:50:25.113726Z"
    },
    "papermill": {
     "duration": 14081.772599,
     "end_time": "2023-03-17T10:50:25.116958",
     "exception": false,
     "start_time": "2023-03-17T06:55:43.344359",
     "status": "completed"
    },
    "tags": []
   },
   "outputs": [
    {
     "name": "stdout",
     "output_type": "stream",
     "text": [
      "Epoch 1/50\n",
      "4500/4500 [==============================] - 314s 68ms/step - loss: 1.7897e-04 - PSNR: 49.5883 - root_mean_squared_error: 0.0134 - SSIM: 0.9854 - val_loss: 6.1034e-05 - val_PSNR: 50.5863 - val_root_mean_squared_error: 0.0078 - val_SSIM: 0.9904\n",
      "Epoch 2/50\n",
      "4500/4500 [==============================] - 273s 61ms/step - loss: 6.4532e-05 - PSNR: 50.6172 - root_mean_squared_error: 0.0080 - SSIM: 0.9902 - val_loss: 7.7576e-05 - val_PSNR: 49.5490 - val_root_mean_squared_error: 0.0088 - val_SSIM: 0.9874\n",
      "Epoch 3/50\n",
      "4500/4500 [==============================] - 274s 61ms/step - loss: 6.1556e-05 - PSNR: 50.6799 - root_mean_squared_error: 0.0078 - SSIM: 0.9903 - val_loss: 5.9548e-05 - val_PSNR: 50.9134 - val_root_mean_squared_error: 0.0077 - val_SSIM: 0.9905\n",
      "Epoch 4/50\n",
      "4500/4500 [==============================] - 276s 61ms/step - loss: 6.0804e-05 - PSNR: 50.9070 - root_mean_squared_error: 0.0078 - SSIM: 0.9905 - val_loss: 5.9082e-05 - val_PSNR: 51.0285 - val_root_mean_squared_error: 0.0077 - val_SSIM: 0.9906\n",
      "Epoch 5/50\n",
      "4500/4500 [==============================] - 274s 61ms/step - loss: 6.1137e-05 - PSNR: 50.9801 - root_mean_squared_error: 0.0078 - SSIM: 0.9905 - val_loss: 9.3189e-05 - val_PSNR: 49.7616 - val_root_mean_squared_error: 0.0097 - val_SSIM: 0.9869\n",
      "Epoch 6/50\n",
      "4500/4500 [==============================] - 274s 61ms/step - loss: 6.0339e-05 - PSNR: 50.9743 - root_mean_squared_error: 0.0078 - SSIM: 0.9905 - val_loss: 5.8951e-05 - val_PSNR: 51.0882 - val_root_mean_squared_error: 0.0077 - val_SSIM: 0.9906\n",
      "Epoch 7/50\n",
      "4500/4500 [==============================] - 276s 61ms/step - loss: 5.9527e-05 - PSNR: 51.0591 - root_mean_squared_error: 0.0077 - SSIM: 0.9905 - val_loss: 5.8963e-05 - val_PSNR: 51.1111 - val_root_mean_squared_error: 0.0077 - val_SSIM: 0.9906\n",
      "Epoch 8/50\n",
      "4500/4500 [==============================] - 275s 61ms/step - loss: 5.9858e-05 - PSNR: 51.0743 - root_mean_squared_error: 0.0077 - SSIM: 0.9905 - val_loss: 5.9014e-05 - val_PSNR: 51.0948 - val_root_mean_squared_error: 0.0077 - val_SSIM: 0.9906\n",
      "Epoch 9/50\n",
      "4500/4500 [==============================] - 276s 61ms/step - loss: 5.9445e-05 - PSNR: 51.0995 - root_mean_squared_error: 0.0077 - SSIM: 0.9905 - val_loss: 5.8818e-05 - val_PSNR: 51.1616 - val_root_mean_squared_error: 0.0077 - val_SSIM: 0.9906\n",
      "Epoch 10/50\n",
      "4500/4500 [==============================] - 275s 61ms/step - loss: 5.9511e-05 - PSNR: 51.1069 - root_mean_squared_error: 0.0077 - SSIM: 0.9905 - val_loss: 5.9467e-05 - val_PSNR: 51.1074 - val_root_mean_squared_error: 0.0077 - val_SSIM: 0.9906\n",
      "Epoch 11/50\n",
      "4500/4500 [==============================] - 275s 61ms/step - loss: 5.9381e-05 - PSNR: 51.1175 - root_mean_squared_error: 0.0077 - SSIM: 0.9905 - val_loss: 6.1527e-05 - val_PSNR: 50.9995 - val_root_mean_squared_error: 0.0078 - val_SSIM: 0.9905\n",
      "Epoch 12/50\n",
      "4500/4500 [==============================] - 276s 61ms/step - loss: 5.9094e-05 - PSNR: 51.1272 - root_mean_squared_error: 0.0077 - SSIM: 0.9905 - val_loss: 5.9119e-05 - val_PSNR: 51.1712 - val_root_mean_squared_error: 0.0077 - val_SSIM: 0.9906\n",
      "Epoch 13/50\n",
      "4500/4500 [==============================] - 277s 62ms/step - loss: 5.9193e-05 - PSNR: 51.1361 - root_mean_squared_error: 0.0077 - SSIM: 0.9906 - val_loss: 6.0957e-05 - val_PSNR: 51.0527 - val_root_mean_squared_error: 0.0078 - val_SSIM: 0.9905\n",
      "Epoch 14/50\n",
      "4500/4500 [==============================] - 276s 61ms/step - loss: 5.9141e-05 - PSNR: 51.1441 - root_mean_squared_error: 0.0077 - SSIM: 0.9906 - val_loss: 5.8821e-05 - val_PSNR: 51.1920 - val_root_mean_squared_error: 0.0077 - val_SSIM: 0.9906\n",
      "Epoch 15/50\n",
      "4500/4500 [==============================] - 275s 61ms/step - loss: 5.9171e-05 - PSNR: 51.1441 - root_mean_squared_error: 0.0077 - SSIM: 0.9906 - val_loss: 6.0634e-05 - val_PSNR: 51.1386 - val_root_mean_squared_error: 0.0078 - val_SSIM: 0.9906\n",
      "Epoch 16/50\n",
      "4500/4500 [==============================] - 276s 61ms/step - loss: 5.9196e-05 - PSNR: 51.1450 - root_mean_squared_error: 0.0077 - SSIM: 0.9906 - val_loss: 5.8881e-05 - val_PSNR: 51.1035 - val_root_mean_squared_error: 0.0077 - val_SSIM: 0.9906\n",
      "Epoch 17/50\n",
      "4500/4500 [==============================] - 277s 62ms/step - loss: 5.8897e-05 - PSNR: 51.1673 - root_mean_squared_error: 0.0077 - SSIM: 0.9906 - val_loss: 5.8993e-05 - val_PSNR: 51.1969 - val_root_mean_squared_error: 0.0077 - val_SSIM: 0.9906\n",
      "Epoch 18/50\n",
      "4500/4500 [==============================] - 275s 61ms/step - loss: 5.9055e-05 - PSNR: 51.1425 - root_mean_squared_error: 0.0077 - SSIM: 0.9906 - val_loss: 5.9100e-05 - val_PSNR: 51.1816 - val_root_mean_squared_error: 0.0077 - val_SSIM: 0.9907\n",
      "Epoch 19/50\n",
      "4500/4500 [==============================] - 275s 61ms/step - loss: 5.9112e-05 - PSNR: 51.1533 - root_mean_squared_error: 0.0077 - SSIM: 0.9906 - val_loss: 5.8707e-05 - val_PSNR: 51.2066 - val_root_mean_squared_error: 0.0077 - val_SSIM: 0.9907\n",
      "Epoch 20/50\n",
      "4500/4500 [==============================] - 276s 61ms/step - loss: 5.8890e-05 - PSNR: 51.1675 - root_mean_squared_error: 0.0077 - SSIM: 0.9906 - val_loss: 5.8715e-05 - val_PSNR: 51.2063 - val_root_mean_squared_error: 0.0077 - val_SSIM: 0.9907\n",
      "Epoch 21/50\n",
      "4500/4500 [==============================] - 275s 61ms/step - loss: 5.9050e-05 - PSNR: 51.1594 - root_mean_squared_error: 0.0077 - SSIM: 0.9906 - val_loss: 5.8759e-05 - val_PSNR: 51.1905 - val_root_mean_squared_error: 0.0077 - val_SSIM: 0.9906\n",
      "Epoch 22/50\n",
      "4500/4500 [==============================] - 277s 62ms/step - loss: 5.8831e-05 - PSNR: 51.1745 - root_mean_squared_error: 0.0077 - SSIM: 0.9906 - val_loss: 5.8810e-05 - val_PSNR: 51.2044 - val_root_mean_squared_error: 0.0077 - val_SSIM: 0.9907\n",
      "Epoch 23/50\n",
      "4500/4500 [==============================] - 276s 61ms/step - loss: 5.9128e-05 - PSNR: 51.0909 - root_mean_squared_error: 0.0077 - SSIM: 0.9905 - val_loss: 5.8780e-05 - val_PSNR: 51.1340 - val_root_mean_squared_error: 0.0077 - val_SSIM: 0.9906\n",
      "Epoch 24/50\n",
      "4500/4500 [==============================] - 277s 61ms/step - loss: 5.8916e-05 - PSNR: 51.1331 - root_mean_squared_error: 0.0077 - SSIM: 0.9906 - val_loss: 5.8697e-05 - val_PSNR: 51.1739 - val_root_mean_squared_error: 0.0077 - val_SSIM: 0.9907\n",
      "Epoch 25/50\n",
      "4500/4500 [==============================] - 276s 61ms/step - loss: 5.8822e-05 - PSNR: 51.1558 - root_mean_squared_error: 0.0077 - SSIM: 0.9906 - val_loss: 5.8741e-05 - val_PSNR: 51.1908 - val_root_mean_squared_error: 0.0077 - val_SSIM: 0.9906\n",
      "Epoch 26/50\n",
      "4500/4500 [==============================] - 277s 61ms/step - loss: 5.8763e-05 - PSNR: 51.1685 - root_mean_squared_error: 0.0077 - SSIM: 0.9906 - val_loss: 5.8715e-05 - val_PSNR: 51.2159 - val_root_mean_squared_error: 0.0077 - val_SSIM: 0.9907\n",
      "Epoch 27/50\n",
      "4500/4500 [==============================] - 275s 61ms/step - loss: 5.8854e-05 - PSNR: 51.1715 - root_mean_squared_error: 0.0077 - SSIM: 0.9906 - val_loss: 5.8765e-05 - val_PSNR: 51.1012 - val_root_mean_squared_error: 0.0077 - val_SSIM: 0.9906\n",
      "Epoch 28/50\n",
      "4500/4500 [==============================] - 277s 62ms/step - loss: 5.9031e-05 - PSNR: 51.1515 - root_mean_squared_error: 0.0077 - SSIM: 0.9906 - val_loss: 5.8763e-05 - val_PSNR: 51.1660 - val_root_mean_squared_error: 0.0077 - val_SSIM: 0.9907\n",
      "Epoch 29/50\n",
      "4500/4500 [==============================] - 276s 61ms/step - loss: 5.8872e-05 - PSNR: 51.1730 - root_mean_squared_error: 0.0077 - SSIM: 0.9906 - val_loss: 5.8780e-05 - val_PSNR: 51.1978 - val_root_mean_squared_error: 0.0077 - val_SSIM: 0.9907\n",
      "Epoch 30/50\n",
      "4500/4500 [==============================] - 276s 61ms/step - loss: 5.8784e-05 - PSNR: 51.1819 - root_mean_squared_error: 0.0077 - SSIM: 0.9906 - val_loss: 5.8692e-05 - val_PSNR: 51.2087 - val_root_mean_squared_error: 0.0077 - val_SSIM: 0.9907\n",
      "Epoch 31/50\n",
      "4500/4500 [==============================] - 275s 61ms/step - loss: 5.8760e-05 - PSNR: 51.1852 - root_mean_squared_error: 0.0077 - SSIM: 0.9906 - val_loss: 5.8712e-05 - val_PSNR: 51.1717 - val_root_mean_squared_error: 0.0077 - val_SSIM: 0.9907\n",
      "Epoch 32/50\n",
      "4500/4500 [==============================] - 275s 61ms/step - loss: 5.8825e-05 - PSNR: 51.1817 - root_mean_squared_error: 0.0077 - SSIM: 0.9906 - val_loss: 5.8703e-05 - val_PSNR: 51.2346 - val_root_mean_squared_error: 0.0077 - val_SSIM: 0.9907\n",
      "Epoch 33/50\n",
      "4500/4500 [==============================] - 274s 61ms/step - loss: 5.8753e-05 - PSNR: 51.1887 - root_mean_squared_error: 0.0077 - SSIM: 0.9906 - val_loss: 5.8827e-05 - val_PSNR: 51.1470 - val_root_mean_squared_error: 0.0077 - val_SSIM: 0.9907\n",
      "Epoch 34/50\n",
      "4500/4500 [==============================] - 275s 61ms/step - loss: 5.8793e-05 - PSNR: 51.1842 - root_mean_squared_error: 0.0077 - SSIM: 0.9906 - val_loss: 5.8744e-05 - val_PSNR: 51.2300 - val_root_mean_squared_error: 0.0077 - val_SSIM: 0.9907\n",
      "Epoch 35/50\n",
      "4500/4500 [==============================] - 274s 61ms/step - loss: 5.8762e-05 - PSNR: 51.1972 - root_mean_squared_error: 0.0077 - SSIM: 0.9906 - val_loss: 5.8781e-05 - val_PSNR: 51.2157 - val_root_mean_squared_error: 0.0077 - val_SSIM: 0.9907\n",
      "Epoch 36/50\n",
      "4500/4500 [==============================] - 274s 61ms/step - loss: 5.8662e-05 - PSNR: 51.1973 - root_mean_squared_error: 0.0077 - SSIM: 0.9906 - val_loss: 5.8713e-05 - val_PSNR: 51.2348 - val_root_mean_squared_error: 0.0077 - val_SSIM: 0.9907\n",
      "Epoch 37/50\n",
      "4500/4500 [==============================] - 274s 61ms/step - loss: 5.8687e-05 - PSNR: 51.1979 - root_mean_squared_error: 0.0077 - SSIM: 0.9906 - val_loss: 5.8661e-05 - val_PSNR: 51.2477 - val_root_mean_squared_error: 0.0077 - val_SSIM: 0.9907\n",
      "Epoch 38/50\n",
      "4500/4500 [==============================] - 283s 63ms/step - loss: 5.8665e-05 - PSNR: 51.2018 - root_mean_squared_error: 0.0077 - SSIM: 0.9906 - val_loss: 5.8661e-05 - val_PSNR: 51.2255 - val_root_mean_squared_error: 0.0077 - val_SSIM: 0.9907\n",
      "Epoch 39/50\n",
      "4500/4500 [==============================] - 275s 61ms/step - loss: 5.8712e-05 - PSNR: 51.1988 - root_mean_squared_error: 0.0077 - SSIM: 0.9906 - val_loss: 5.8678e-05 - val_PSNR: 51.2421 - val_root_mean_squared_error: 0.0077 - val_SSIM: 0.9907\n",
      "Epoch 40/50\n",
      "4500/4500 [==============================] - 275s 61ms/step - loss: 5.8666e-05 - PSNR: 51.2028 - root_mean_squared_error: 0.0077 - SSIM: 0.9906 - val_loss: 5.8648e-05 - val_PSNR: 51.2258 - val_root_mean_squared_error: 0.0077 - val_SSIM: 0.9907\n",
      "Epoch 41/50\n",
      "4500/4500 [==============================] - 275s 61ms/step - loss: 5.8612e-05 - PSNR: 51.2066 - root_mean_squared_error: 0.0077 - SSIM: 0.9906 - val_loss: 5.8868e-05 - val_PSNR: 51.1630 - val_root_mean_squared_error: 0.0077 - val_SSIM: 0.9906\n",
      "Epoch 42/50\n",
      "4500/4500 [==============================] - 275s 61ms/step - loss: 5.8659e-05 - PSNR: 51.2062 - root_mean_squared_error: 0.0077 - SSIM: 0.9906 - val_loss: 5.8718e-05 - val_PSNR: 51.1543 - val_root_mean_squared_error: 0.0077 - val_SSIM: 0.9907\n",
      "Epoch 43/50\n",
      "4500/4500 [==============================] - 276s 61ms/step - loss: 5.8755e-05 - PSNR: 51.2040 - root_mean_squared_error: 0.0077 - SSIM: 0.9906 - val_loss: 5.9922e-05 - val_PSNR: 51.1568 - val_root_mean_squared_error: 0.0077 - val_SSIM: 0.9904\n",
      "Epoch 44/50\n",
      "4500/4500 [==============================] - 275s 61ms/step - loss: 5.8626e-05 - PSNR: 51.2101 - root_mean_squared_error: 0.0077 - SSIM: 0.9906 - val_loss: 5.8660e-05 - val_PSNR: 51.2320 - val_root_mean_squared_error: 0.0077 - val_SSIM: 0.9906\n",
      "Epoch 45/50\n",
      "4500/4500 [==============================] - 275s 61ms/step - loss: 5.8624e-05 - PSNR: 51.2111 - root_mean_squared_error: 0.0077 - SSIM: 0.9906 - val_loss: 5.8914e-05 - val_PSNR: 51.2213 - val_root_mean_squared_error: 0.0077 - val_SSIM: 0.9906\n",
      "Epoch 46/50\n",
      "4500/4500 [==============================] - 276s 61ms/step - loss: 5.8574e-05 - PSNR: 51.2160 - root_mean_squared_error: 0.0077 - SSIM: 0.9906 - val_loss: 5.9375e-05 - val_PSNR: 51.2041 - val_root_mean_squared_error: 0.0077 - val_SSIM: 0.9907\n",
      "Epoch 47/50\n",
      "4500/4500 [==============================] - 276s 61ms/step - loss: 5.8590e-05 - PSNR: 51.2127 - root_mean_squared_error: 0.0077 - SSIM: 0.9906 - val_loss: 5.8825e-05 - val_PSNR: 51.0913 - val_root_mean_squared_error: 0.0077 - val_SSIM: 0.9907\n",
      "Epoch 48/50\n",
      "4500/4500 [==============================] - 284s 63ms/step - loss: 5.8579e-05 - PSNR: 51.2172 - root_mean_squared_error: 0.0077 - SSIM: 0.9906 - val_loss: 5.8631e-05 - val_PSNR: 51.2556 - val_root_mean_squared_error: 0.0077 - val_SSIM: 0.9907\n",
      "Epoch 49/50\n",
      "4500/4500 [==============================] - 283s 63ms/step - loss: 5.8639e-05 - PSNR: 51.2108 - root_mean_squared_error: 0.0077 - SSIM: 0.9906 - val_loss: 5.9000e-05 - val_PSNR: 51.2158 - val_root_mean_squared_error: 0.0077 - val_SSIM: 0.9906\n",
      "Epoch 50/50\n",
      "4500/4500 [==============================] - 283s 63ms/step - loss: 5.8632e-05 - PSNR: 51.2178 - root_mean_squared_error: 0.0077 - SSIM: 0.9906 - val_loss: 5.8679e-05 - val_PSNR: 51.2387 - val_root_mean_squared_error: 0.0077 - val_SSIM: 0.9907\n"
     ]
    }
   ],
   "source": [
    "earlystop_callback = tf.keras.callbacks.EarlyStopping(monitor='loss', patience=20)\n",
    "\n",
    "history = model.fit(training_generator, batch_size=2, epochs=50, verbose= 1,\n",
    "                   callbacks=[earlystop_callback], validation_data = validation_generator)"
   ]
  },
  {
   "cell_type": "markdown",
   "id": "8c2e5cfd",
   "metadata": {
    "papermill": {
     "duration": 14.429513,
     "end_time": "2023-03-17T10:50:53.517729",
     "exception": false,
     "start_time": "2023-03-17T10:50:39.088216",
     "status": "completed"
    },
    "tags": []
   },
   "source": [
    "# Plot The PSNR and SSIM"
   ]
  },
  {
   "cell_type": "code",
   "execution_count": 13,
   "id": "2b9c022d",
   "metadata": {
    "execution": {
     "iopub.execute_input": "2023-03-17T10:51:22.036973Z",
     "iopub.status.busy": "2023-03-17T10:51:22.036550Z",
     "iopub.status.idle": "2023-03-17T10:51:22.910101Z",
     "shell.execute_reply": "2023-03-17T10:51:22.909030Z"
    },
    "papermill": {
     "duration": 15.638894,
     "end_time": "2023-03-17T10:51:22.912305",
     "exception": false,
     "start_time": "2023-03-17T10:51:07.273411",
     "status": "completed"
    },
    "tags": []
   },
   "outputs": [
    {
     "data": {
      "image/png": "[encoded data removed]",
      "text/plain": [
       "<Figure size 640x480 with 1 Axes>"
      ]
     },
     "metadata": {},
     "output_type": "display_data"
    },
    {
     "data": {
      "image/png": "[encoded data removed]",
      "text/plain": [
       "<Figure size 640x480 with 1 Axes>"
      ]
     },
     "metadata": {},
     "output_type": "display_data"
    },
    {
     "data": {
      "image/png": "[encoded data removed]",
      "text/plain": [
       "<Figure size 640x480 with 1 Axes>"
      ]
     },
     "metadata": {},
     "output_type": "display_data"
    },
    {
     "data": {
      "image/png": "[encoded data removed]",
      "text/plain": [
       "<Figure size 640x480 with 1 Axes>"
      ]
     },
     "metadata": {},
     "output_type": "display_data"
    }
   ],
   "source": [
    "model_train_plot(history)"
   ]
  },
  {
   "cell_type": "code",
   "execution_count": null,
   "id": "2fa84dd8",
   "metadata": {
    "papermill": {
     "duration": 14.346795,
     "end_time": "2023-03-17T10:51:51.017975",
     "exception": false,
     "start_time": "2023-03-17T10:51:36.671180",
     "status": "completed"
    },
    "tags": []
   },
   "outputs": [],
   "source": []
  },
  {
   "cell_type": "code",
   "execution_count": null,
   "id": "0f839809",
   "metadata": {
    "papermill": {
     "duration": 13.882187,
     "end_time": "2023-03-17T10:52:19.013168",
     "exception": false,
     "start_time": "2023-03-17T10:52:05.130981",
     "status": "completed"
    },
    "tags": []
   },
   "outputs": [],
   "source": []
  },
  {
   "cell_type": "code",
   "execution_count": null,
   "id": "e2f1ea6a",
   "metadata": {
    "papermill": {
     "duration": 14.411759,
     "end_time": "2023-03-17T10:52:47.646086",
     "exception": false,
     "start_time": "2023-03-17T10:52:33.234327",
     "status": "completed"
    },
    "tags": []
   },
   "outputs": [],
   "source": []
  },
  {
   "cell_type": "code",
   "execution_count": null,
   "id": "fc75cecc",
   "metadata": {
    "papermill": {
     "duration": 13.619695,
     "end_time": "2023-03-17T10:53:15.296980",
     "exception": false,
     "start_time": "2023-03-17T10:53:01.677285",
     "status": "completed"
    },
    "tags": []
   },
   "outputs": [],
   "source": []
  }
 ],
 "metadata": {
  "kernelspec": {
   "display_name": "Python 3",
   "language": "python",
   "name": "python3"
  },
  "language_info": {
   "codemirror_mode": {
    "name": "ipython",
    "version": 3
   },
   "file_extension": ".py",
   "mimetype": "text/x-python",
   "name": "python",
   "nbconvert_exporter": "python",
   "pygments_lexer": "ipython3",
   "version": "3.7.12"
  },
  "papermill": {
   "default_parameters": {},
   "duration": 14292.233131,
   "end_time": "2023-03-17T10:53:33.416363",
   "environment_variables": {},
   "exception": null,
   "input_path": "__notebook__.ipynb",
   "output_path": "__notebook__.ipynb",
   "parameters": {},
   "start_time": "2023-03-17T06:55:21.183232",
   "version": "2.4.0"
  }
 },
 "nbformat": 4,
 "nbformat_minor": 5
}
